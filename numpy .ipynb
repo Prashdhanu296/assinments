{
 "cells": [
  {
   "cell_type": "code",
   "execution_count": 3,
   "id": "2ff23777-fd41-4954-887f-5c644921a401",
   "metadata": {},
   "outputs": [
    {
     "name": "stdout",
     "output_type": "stream",
     "text": [
      "                                             Bank Name                City  \\\n",
      "0                                  Fayette County Bank          Saint Elmo   \n",
      "1    Guaranty Bank, (d/b/a BestBank in Georgia & Mi...           Milwaukee   \n",
      "2                                       First NBC Bank         New Orleans   \n",
      "3                                        Proficio Bank  Cottonwood Heights   \n",
      "4                        Seaway Bank and Trust Company             Chicago   \n",
      "..                                                 ...                 ...   \n",
      "548                                 Superior Bank, FSB            Hinsdale   \n",
      "549                                Malta National Bank               Malta   \n",
      "550                    First Alliance Bank & Trust Co.          Manchester   \n",
      "551                  National State Bank of Metropolis          Metropolis   \n",
      "552                                   Bank of Honolulu            Honolulu   \n",
      "\n",
      "     ST   CERT                Acquiring Institution Closing Date Updated Date  \n",
      "0    IL   1802            United Fidelity Bank, fsb    26-May-17    26-Jul-17  \n",
      "1    WI  30003  First-Citizens Bank & Trust Company     5-May-17    26-Jul-17  \n",
      "2    LA  58302                         Whitney Bank    28-Apr-17    26-Jul-17  \n",
      "3    UT  35495                    Cache Valley Bank     3-Mar-17    18-May-17  \n",
      "4    IL  19328                  State Bank of Texas    27-Jan-17    18-May-17  \n",
      "..   ..    ...                                  ...          ...          ...  \n",
      "548  IL  32646                Superior Federal, FSB    27-Jul-01    19-Aug-14  \n",
      "549  OH   6629                    North Valley Bank     3-May-01    18-Nov-02  \n",
      "550  NH  34264  Southern New Hampshire Bank & Trust     2-Feb-01    18-Feb-03  \n",
      "551  IL   3815              Banterra Bank of Marion    14-Dec-00    17-Mar-05  \n",
      "552  HI  21029                   Bank of the Orient    13-Oct-00    17-Mar-05  \n",
      "\n",
      "[553 rows x 7 columns]\n"
     ]
    }
   ],
   "source": [
    "# 1) Import pandas and read in the banklist.csv file into a dataframe called banks. \n",
    "import pandas as pd\n",
    "bank = pd.read_csv(\"banklist.csv\")\n",
    "print(bank)"
   ]
  },
  {
   "cell_type": "code",
   "execution_count": 21,
   "id": "8bbfb514-80ef-46bf-b226-79c9319f7e28",
   "metadata": {},
   "outputs": [
    {
     "name": "stdout",
     "output_type": "stream",
     "text": [
      "        Name  Age Department  Salary\n",
      "0  Dhanshree   25    Account   85000\n",
      "1     Dimple   31      Admin   56000\n",
      "2     Dipika   25         HR   75000\n",
      "3     Siddhu   21  Designing   65000\n",
      "4       Samu   15    Testing   55000\n"
     ]
    }
   ],
   "source": [
    "# 2) Show the head of the dataframe. \n",
    "import pandas as pd\n",
    "data = {\"Name\" : [\"Dhanshree\",\"Dimple\",\"Dipika\",\"Siddhu\",\"Samu\"],\n",
    "        \"Age\" : [25,31,25,21,15],\n",
    "        \"Department\" : [\"Account\",\"Admin\",\"HR\",\"Designing\",\"Testing\"],\n",
    "        \"Salary\" :[85000,56000,75000,65000,55000]}\n",
    "df = pd.DataFrame(data)\n",
    "print(df.head())"
   ]
  },
  {
   "cell_type": "code",
   "execution_count": 7,
   "id": "d06be0c1-482f-4427-aecc-272f77c39751",
   "metadata": {},
   "outputs": [
    {
     "data": {
      "text/plain": [
       "Index(['Bank Name', 'City', 'ST', 'CERT', 'Acquiring Institution',\n",
       "       'Closing Date', 'Updated Date'],\n",
       "      dtype='object')"
      ]
     },
     "execution_count": 7,
     "metadata": {},
     "output_type": "execute_result"
    }
   ],
   "source": [
    "# 3) What are the column names? \n",
    "#df = pd.DataFrame(data, columns = [\"Name\",\"Age\",\"Gender\",\"Department\",\"Salary\"])\n",
    "bank.columns"
   ]
  },
  {
   "cell_type": "code",
   "execution_count": 9,
   "id": "860e31b9-a4de-497e-9c03-228712044290",
   "metadata": {},
   "outputs": [
    {
     "data": {
      "text/plain": [
       "44"
      ]
     },
     "execution_count": 9,
     "metadata": {},
     "output_type": "execute_result"
    }
   ],
   "source": [
    "# 4) How many States (ST) are represented in this data set? \n",
    "\n",
    "bank['ST'].nunique()"
   ]
  },
  {
   "cell_type": "code",
   "execution_count": 11,
   "id": "27ee81a5-58ff-4085-b241-23aef6e70507",
   "metadata": {},
   "outputs": [
    {
     "data": {
      "text/plain": [
       "array(['IL', 'WI', 'LA', 'UT', 'NJ', 'AR', 'GA', 'PA', 'TN', 'WA', 'CO',\n",
       "       'PR', 'FL', 'MN', 'CA', 'MD', 'OK', 'OH', 'SC', 'VA', 'ID', 'TX',\n",
       "       'CT', 'AZ', 'NV', 'NC', 'KY', 'MO', 'KS', 'AL', 'MI', 'IN', 'IA',\n",
       "       'NE', 'MS', 'NM', 'OR', 'NY', 'MA', 'SD', 'WY', 'WV', 'NH', 'HI'],\n",
       "      dtype=object)"
      ]
     },
     "execution_count": 11,
     "metadata": {},
     "output_type": "execute_result"
    }
   ],
   "source": [
    "# 5) Get a list or array of all the states in the data set. \n",
    "\n",
    "bank['ST'].unique()\n"
   ]
  },
  {
   "cell_type": "code",
   "execution_count": 13,
   "id": "6fa626f2-3001-477b-bac6-15e5392e313f",
   "metadata": {},
   "outputs": [
    {
     "data": {
      "text/plain": [
       "ST\n",
       "GA    93\n",
       "FL    75\n",
       "IL    68\n",
       "CA    41\n",
       "MN    23\n",
       "Name: City, dtype: int64"
      ]
     },
     "execution_count": 13,
     "metadata": {},
     "output_type": "execute_result"
    }
   ],
   "source": [
    "# 6) What are the top 5 states with the most failed banks? \n",
    "\n",
    "bank.groupby(by = 'ST').count().sort_values(by = 'Bank Name', ascending = False).iloc[:5, 1]"
   ]
  },
  {
   "cell_type": "code",
   "execution_count": 15,
   "id": "a1b3b4f3-92b4-4e9e-807e-8f28b9d5d81c",
   "metadata": {},
   "outputs": [
    {
     "data": {
      "text/plain": [
       "Acquiring Institution\n",
       "No Acquirer                            31\n",
       "State Bank and Trust Company           12\n",
       "First-Citizens Bank & Trust Company    11\n",
       "Ameris Bank                            10\n",
       "U.S. Bank N.A.                          9\n",
       "Name: City, dtype: int64"
      ]
     },
     "execution_count": 15,
     "metadata": {},
     "output_type": "execute_result"
    }
   ],
   "source": [
    "# 7) What are the top 5 acquiring institutions? \n",
    "\n",
    "bank.groupby('Acquiring Institution').count().sort_values(by = 'City', ascending = False).iloc[:5,1]"
   ]
  },
  {
   "cell_type": "code",
   "execution_count": 17,
   "id": "58a8ad90-9b7f-4b0d-a785-7a1ee81173cf",
   "metadata": {},
   "outputs": [
    {
     "data": {
      "text/html": [
       "<div>\n",
       "<style scoped>\n",
       "    .dataframe tbody tr th:only-of-type {\n",
       "        vertical-align: middle;\n",
       "    }\n",
       "\n",
       "    .dataframe tbody tr th {\n",
       "        vertical-align: top;\n",
       "    }\n",
       "\n",
       "    .dataframe thead th {\n",
       "        text-align: right;\n",
       "    }\n",
       "</style>\n",
       "<table border=\"1\" class=\"dataframe\">\n",
       "  <thead>\n",
       "    <tr style=\"text-align: right;\">\n",
       "      <th></th>\n",
       "      <th>Bank Name</th>\n",
       "      <th>City</th>\n",
       "      <th>ST</th>\n",
       "      <th>CERT</th>\n",
       "      <th>Acquiring Institution</th>\n",
       "      <th>Closing Date</th>\n",
       "      <th>Updated Date</th>\n",
       "    </tr>\n",
       "  </thead>\n",
       "  <tbody>\n",
       "    <tr>\n",
       "      <th>450</th>\n",
       "      <td>Millennium State Bank of Texas</td>\n",
       "      <td>Dallas</td>\n",
       "      <td>TX</td>\n",
       "      <td>57667</td>\n",
       "      <td>State Bank of Texas</td>\n",
       "      <td>2-Jul-09</td>\n",
       "      <td>26-Oct-12</td>\n",
       "    </tr>\n",
       "  </tbody>\n",
       "</table>\n",
       "</div>"
      ],
      "text/plain": [
       "                          Bank Name    City  ST   CERT Acquiring Institution  \\\n",
       "450  Millennium State Bank of Texas  Dallas  TX  57667   State Bank of Texas   \n",
       "\n",
       "    Closing Date Updated Date  \n",
       "450     2-Jul-09    26-Oct-12  "
      ]
     },
     "execution_count": 17,
     "metadata": {},
     "output_type": "execute_result"
    }
   ],
   "source": [
    "# 8) How many banks has the State Bank of Texas acquired? How many of them were actually in Texas? \n",
    "\n",
    "bank[(bank['Acquiring Institution'] == 'State Bank of Texas') & (bank['ST'] ==  'TX')]"
   ]
  },
  {
   "cell_type": "code",
   "execution_count": 19,
   "id": "9182bca5-7eaf-4c24-a24b-857fd8e93ca0",
   "metadata": {},
   "outputs": [
    {
     "data": {
      "text/html": [
       "<div>\n",
       "<style scoped>\n",
       "    .dataframe tbody tr th:only-of-type {\n",
       "        vertical-align: middle;\n",
       "    }\n",
       "\n",
       "    .dataframe tbody tr th {\n",
       "        vertical-align: top;\n",
       "    }\n",
       "\n",
       "    .dataframe thead th {\n",
       "        text-align: right;\n",
       "    }\n",
       "</style>\n",
       "<table border=\"1\" class=\"dataframe\">\n",
       "  <thead>\n",
       "    <tr style=\"text-align: right;\">\n",
       "      <th></th>\n",
       "      <th>Bank Name</th>\n",
       "      <th>ST</th>\n",
       "      <th>CERT</th>\n",
       "      <th>Acquiring Institution</th>\n",
       "      <th>Closing Date</th>\n",
       "      <th>Updated Date</th>\n",
       "    </tr>\n",
       "    <tr>\n",
       "      <th>City</th>\n",
       "      <th></th>\n",
       "      <th></th>\n",
       "      <th></th>\n",
       "      <th></th>\n",
       "      <th></th>\n",
       "      <th></th>\n",
       "    </tr>\n",
       "  </thead>\n",
       "  <tbody>\n",
       "    <tr>\n",
       "      <th>Los Angeles</th>\n",
       "      <td>4</td>\n",
       "      <td>4</td>\n",
       "      <td>4</td>\n",
       "      <td>4</td>\n",
       "      <td>4</td>\n",
       "      <td>4</td>\n",
       "    </tr>\n",
       "  </tbody>\n",
       "</table>\n",
       "</div>"
      ],
      "text/plain": [
       "             Bank Name  ST  CERT  Acquiring Institution  Closing Date  \\\n",
       "City                                                                    \n",
       "Los Angeles          4   4     4                      4             4   \n",
       "\n",
       "             Updated Date  \n",
       "City                       \n",
       "Los Angeles             4  "
      ]
     },
     "execution_count": 19,
     "metadata": {},
     "output_type": "execute_result"
    }
   ],
   "source": [
    "# 9) What is the most common city in California for a bank to fail in? \n",
    "\n",
    "bank[bank['ST'] == 'CA'].groupby('City').count().sort_values(by = 'ST', ascending = False).head(1)"
   ]
  },
  {
   "cell_type": "code",
   "execution_count": null,
   "id": "92f3e383-3e74-4376-89b9-bc907affca9b",
   "metadata": {},
   "outputs": [],
   "source": []
  }
 ],
 "metadata": {
  "kernelspec": {
   "display_name": "Python [conda env:base] *",
   "language": "python",
   "name": "conda-base-py"
  },
  "language_info": {
   "codemirror_mode": {
    "name": "ipython",
    "version": 3
   },
   "file_extension": ".py",
   "mimetype": "text/x-python",
   "name": "python",
   "nbconvert_exporter": "python",
   "pygments_lexer": "ipython3",
   "version": "3.12.7"
  }
 },
 "nbformat": 4,
 "nbformat_minor": 5
}
