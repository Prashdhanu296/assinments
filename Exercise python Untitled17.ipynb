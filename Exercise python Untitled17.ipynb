{
 "cells": [
  {
   "cell_type": "markdown",
   "id": "94e3fa46-50f0-434d-b51f-11fbe622ec80",
   "metadata": {},
   "source": [
    "1.What are the types of Application\n",
    "# Web Application\n",
    "# Mobile Application\n",
    "# Desktop Application\n",
    "# Enterprise Application\n",
    "# Cloud Application\n",
    "\n",
    "2.What is programming\n",
    "# Programming is the process of creating a set of instructions, or code, that a computer can follow to perform specific tasks and solve problems.\n",
    "\n",
    "\n",
    "3.What is python\n",
    "# Python is a general-purpose programming language that is used to build software, websites, and analyze data. It is also used for machine learning, data science, and automation. \n",
    "\n",
    "7.How memory is managed in Python? \n",
    "# Yes, Python has automatic memory management. It uses reference counting and a cyclic garbage collector to allocate and deallocate memory for objects efficiently.Python employs a memory management system that uses a private heap, managed by the Python memory manager.\n",
    "\n",
    "8.What is the purpose continuing statement in python? \n",
    "# The continue statement is used to skip the remaining code inside a loop for the current iteration only.\n",
    "\n",
    "17.What are negative indexes and why are they used?\n",
    "# Negative indexing refers to accessing elements in a sequence (like a list, tuple, or string) from the end, using negative numbers where -1 represents the last element, -2 the second-to-last, and so on.\n",
    "# Convenience: Accessing the last few elements of a sequence without needing to know its length is easier with negative indexing. You can directly reference them without having to calculate the length first. \n",
    "# Readability: Using negative indexing to access elements from the end can make your code more readable and easier to understand. \n",
    "# Flexibility: Negative indexing enables you to work with elements from the end of a sequence in a more dynamic way, as you don't need to know the exact position of those elements beforehand. \n",
    "\n",
    "25.What is List? How will you reverse a list? \n",
    "# A list is a data structure in Python that is a mutable, or changeable, ordered sequence of elements.\n",
    "# a = [1, 2, 3, 4, 5]\n",
    "# Reverse the list in-place\n",
    "a.reverse()\n",
    "print(a)\n",
    "# output\n",
    "  [5,4,3,2,1]\n",
    "\n",
    "26.How will you remove last object from a list? \n",
    "# Input: [“geeks”, “for”, “geeks”]\n",
    "  Output:[“geeks”, “for”]\n",
    "\n",
    "Input: [1, 2, 3, 4, 5]\n",
    "Output:[1, 2, 3, 4]\n",
    "\n",
    "Explanation: Here simply we have to remove the last element present in the list and print the resultant list.\n",
    "\n",
    "27.Suppose list1 is [2, 33, 222, 14, and 25], what is list1 [1]?  \n",
    "# In Python, using negative indexing allows you to access elements from the end of a list. For the list list1 = [2, 33, 222, 14, 25], list1[-1] refers to the last element of the list.\n",
    "So, list1[-1] would return 25.\n",
    "\n",
    "28.Differentiate between append () and extend () methods? \n",
    "# In Python, append() adds a single element to the end of a list, while extend() adds all elements from an iterable (like another list, tuple, or string) to the end of the list. \n",
    "append():\n",
    "# Takes a single element as an argument.\n",
    "# Adds the element as a single item to the end of the list.\n",
    "# Example:\n",
    "my_list = [1, 2, 3]\n",
    "my_list.append(4)  # my_list becomes [1, 2, 3, 4]\n",
    "my_list.append([5, 6]) # my_list becomes [1, 2, 3, 4, [5, 6]]\n",
    "\n",
    "extend():\n",
    "# Takes an iterable (like another list, tuple, or string) as an argument.\n",
    "# Adds each element from the iterable to the end of the list.\n",
    "# Example:\n",
    "my_list = [1, 2, 3]\n",
    "my_list.extend([4, 5])  # my_list becomes [1, 2, 3, 4, 5]\n",
    "my_list.extend(\"abc\")  # my_list becomes [1, 2, 3, 4, 5, 'a', 'b', 'c']\n",
    "\n",
    "30.How will you compare two lists? \n",
    "#  use the Python map() function along with the functools. reduce() function to compare the data items of two lists. When you use them in combination, the map() function applies the given function to every element and the reduce() function ensures that it applies the function in a consecutive manner.\n",
    "\n",
    "43.What is tuple? Difference between list and tuple.\n",
    "# Tuple: is an ordered, immutable collection of elements (items) that can hold different data types. Think of it as a list that you can't change after it's created. \n",
    "\n",
    "1\tLists are mutable(can be modified).\t                     Tuples are immutable(cannot be modified).\n",
    "2\tIteration over lists is time-consuming.\t                 Iterations over tuple is faster\n",
    "3\tLists are better for performing operations,\n",
    "    such as insertion and deletion.                          Tuples are more suitable for accessing elements efficiently.\n",
    "4\tLists consume more memory.\t                             Tuples consumes less memory\n",
    "5\tLists have several built-in methods.\t                 Tuples have fewer built-in methods.\n",
    "6\tLists are more prone to unexpected changes and errors.\t Tuples, being immutable are less error prone.\n",
    "\n",
    "47.How will you create a dictionary using tuples in python? \n",
    "#  create a dictionary in Python using tuples as keys and values by using a dictionary comprehension or by iterating through a list of tuples and assigning them to the dictionary.\n",
    "# Example with a list of tuples\n",
    "my_tuples = [('a', 1), ('b', 2), ('c', 3)]\n",
    "\n",
    "# Create an empty dictionary\n",
    "my_dict = {}\n",
    "\n",
    "# Iterate through the list of tuples and assign them to the dictionary\n",
    "for key, value in my_tuples:\n",
    "    my_dict[key] = value\n",
    "\n",
    "print(my_dict)  # Output: {'a': 1, 'b': 2, 'c': 3}\n",
    "\n",
    "51.How Do You Traverse Through a Dictionary Object in Python? \n",
    "# Traversing a Dictionary Directly.\n",
    "# Looping Over Dictionary Items: The .items() Method.\n",
    "# Iterating Through Dictionary Keys: The .keys() Method.\n",
    "# Walking Through Dictionary Values: The .values() Method.\n",
    "# create a python dictionary \n",
    "d = {\"name\": \"Geeks\", \"topic\": \"dict\", \"task\": \"iterate\"}\n",
    "\n",
    "# loop over dict values\n",
    "for val in d.values():\n",
    "    print(val)\n",
    "\n",
    "52.How Do You Check the Presence of a Key in A Dictionary? \n",
    "# if a key exists in a dictionary, you can use the in operator, which returns True if the key is present and False otherwise. \n",
    "Here's a breakdown with examples:\n",
    "1. Using the in Operator:\n",
    "Syntax: key in dictionary\n",
    "2. Using the get() method:\n",
    "Syntax: dictionary.get(key)\n",
    "How it works: The get() method returns the value associated with the key if it exists, otherwise it returns None.\n",
    "\n",
    "65.How Many Basic Types of Functions Are Available in Python? \n",
    "# The basic types of functions are built-in functions, user-defined functions, lambda functions, and recursive functions. \n",
    "\n",
    "# Built-in Functions: These are pre-defined functions that come standard with Python, like print(), len(), type(), etc. \n",
    "# User-defined Functions: These are functions that you create yourself using the def keyword to perform specific tasks. \n",
    "# Lambda Functions: These are small, anonymous functions defined using the lambda keyword. \n",
    "# Recursive Functions: These are functions that call themselves within their own definition. \n",
    "\n",
    "66.How can you pick a random item from a list or tuple? \n",
    "# Use the random. choice() method: The choice() function takes one argument: the no-empty sequence like a list, tuple, string, or any iterable like range. Pass your list as an argument, and It will return a random element from it.\n",
    "\n",
    "67.How can you pick a random item from a range? \n",
    "# Give the lower limit and higher limit values of the range and store them in two separate variables. Use the random. randint() function(Returns a random number within the specified range) to generate a random number within the given range by passing minimum, and maximum numbers as arguments.\n",
    "\n",
    "68.How can you get a random number in python? \n",
    "# To generate random integers within a specified range, you can use the randint() or randrange() functions from the random module.\n",
    "import random\n",
    "num = random.random()\n",
    "print(num)\n",
    "output:\n",
    "0.30078080420602904\n",
    "\n",
    "69.How will you set the starting value in generating random numbers? \n",
    "# The random number generator needs a number to start with (a seed value), to be able to generate a random number. By default the random number generator uses the current system time. Use the seed() method to customize the start number of the random number generator.\n",
    "\n",
    "70.How will you randomize the items of a list in place? \n",
    "# Using random.\n",
    "# shuffle() function is simplest way to shuffle a list in-place. It directly modifies the list and doesn't return a new list. Explanation: random.   shuffle(a): Shuffles the list a in place by modifying the original list directly.\n",
    "\n",
    "71.What is File function in python? What are keywords to create and write file.\n",
    "# The four primary functions used for file handling in Python are: open() : Opens a file and returns a file object. read() : Reads data from a file. write() : Writes data to a file.\n",
    "# file is neither a keyword nor a builtin in Python 3. file is also used as variable example from Python 3 doc. with open('spam. txt', 'w') as file: file.\n",
    "\n",
    "83.Explain Exception handling? What is an Error in Python? \n",
    "# Exception handling is a programming mechanism that allows a program to gracefully respond to and recover from unexpected errors or exceptional conditions during runtime, preventing program crashes and ensuring a more robust and user-friendly experience. \n",
    "# An error is an issue in a program that prevents the program from completing its task. In comparison, an exception is a condition that interrupts the normal flow of the program. Both errors and exceptions are a type of runtime error, which means they occur during the execution of a program.\n",
    "\n",
    "84.How many except statements can a try-except block have? Name Some built-in exception classes: \n",
    "# There has to be at least one except statement.\n",
    "# Some common built-in exception classes include ValueError, IndexError, KeyError, ZeroDivisionError, AttributeError, IOError, and NameError. \n",
    "\n",
    "85.When will the else part of try-except-else be executed? \n",
    "# The else part of a try-except-else block in Python is executed only if no exception occurs within the try block. \n",
    "# try block: Contains the code that might potentially raise an exception. \n",
    "# except block: Handles specific exceptions that might occur within the try block. \n",
    "# else block: Executes only when no exception occurs within the try block, allowing you to execute code that should only run if the try block succeeds. \n",
    "# finally block: Executes regardless of whether an exception occurred or not, useful for cleanup tasks.\n",
    "\n",
    "86.Can one block of except statements handle multiple exception?\n",
    "# Yes, a single except block in Python can handle multiple exceptions by specifying them as a tuple within the except statement.  \n",
    "# Multiple Exceptions in One except: You can list multiple exception types within a tuple after the except keyword.\n",
    "\n",
    "87.When is the finally block executed? \n",
    "# The 'finally' block is always executed, regardless of whether an exception occurred or not. It is typically used for cleanup tasks and releasing resources that need to be performed no matter what.\n",
    "\n",
    "88.What happens when „1‟== 1 is executed? \n",
    "# In python thing inside ' ' or \" \" are considered as a string. So for condition if('1' == 1) returns a false.\n",
    "# Equality Operator: The == operator in programming languages like Python is used to check if two values are equal. \n",
    "# Evaluation: In this case, the expression 1 == 1 compares the integer value 1 with itself. Since they are identical, the comparison results in True. \n",
    "# No Exception: The expression 1 == 1 does not raise any exceptions or errors; it simply returns a boolean value (True or False). \n",
    "\n",
    "89.How Do You Handle Exceptions with Try/Except/Finally in Python? \n",
    "# finally in Python: The statements within the 'try' block are executed one by one. If an exception occurs during the execution of any statement within the 'try' block, the remaining statements within the block are skipped, and the control is transferred to the appropriate 'except' block.\n",
    " try:\n",
    "    age = int(input(\"Enter your age : \"))\n",
    "    result = 250/age\n",
    "    print(f\"Result is : {result}\")\n",
    "except(ZeroDivisionError, ValueError):\n",
    "    print()\n",
    "\n",
    "output: Enter your age :  25\n",
    "        Result is : 10.0"
   ]
  },
  {
   "cell_type": "code",
   "execution_count": 5,
   "id": "3ffa4930-9874-423e-8588-089757f16857",
   "metadata": {},
   "outputs": [
    {
     "name": "stdin",
     "output_type": "stream",
     "text": [
      "Enter a number:  1\n"
     ]
    },
    {
     "name": "stdout",
     "output_type": "stream",
     "text": [
      "The number is positive.\n"
     ]
    }
   ],
   "source": [
    "# Write a Python program to check if a number is positive, negative or zero.\n",
    "# Accept input from the user and convert it to an integer.\n",
    "num = int(input(\"Enter a number: \"))\n",
    "\n",
    "if num > 0:\n",
    "    print(\"The number is positive.\")\n",
    "elif num < 0:\n",
    "    print(\"The number is negative.\")\n",
    "else:\n",
    "    print(\"The number is 0.\")"
   ]
  },
  {
   "cell_type": "code",
   "execution_count": 3,
   "id": "77c79521-7ac7-452d-95f6-e2c0770e584b",
   "metadata": {},
   "outputs": [
    {
     "name": "stdin",
     "output_type": "stream",
     "text": [
      "Enter the number: 5\n"
     ]
    },
    {
     "name": "stdout",
     "output_type": "stream",
     "text": [
      "factorial of number is: 120\n"
     ]
    }
   ],
   "source": [
    "# Write a Python program to get the Factorial number of given numbers. \n",
    "num= int(input(\"Enter the number:\"))\n",
    "fact = 1\n",
    "if(num==0 or num == 1):\n",
    "    print(1)\n",
    "for i in range(2, num + 1):\n",
    "    fact = fact * i\n",
    "print(f\"factorial of number is: {fact}\")"
   ]
  },
  {
   "cell_type": "code",
   "execution_count": 5,
   "id": "d5fb888d-76ee-407d-89f8-244c031fe15d",
   "metadata": {},
   "outputs": [
    {
     "name": "stdout",
     "output_type": "stream",
     "text": [
      "1 2 3 5 8 13 21 34 55 89 \n"
     ]
    }
   ],
   "source": [
    "# Write a Python program to get the Fibonacci series of given range.\n",
    "n = 10\n",
    "num1 = 0\n",
    "num2 = 1\n",
    "next_number = num2  \n",
    "count = 1\n",
    "\n",
    "while count <= n:\n",
    "    print(next_number, end=\" \")\n",
    "    count += 1\n",
    "    num1, num2 = num2, next_number\n",
    "    next_number = num1 + num2\n",
    "print()"
   ]
  },
  {
   "cell_type": "code",
   "execution_count": 7,
   "id": "56a4069b-bd2f-4298-8017-7d3ae7787a3d",
   "metadata": {},
   "outputs": [
    {
     "name": "stdin",
     "output_type": "stream",
     "text": [
      "Enter the first number:  5\n",
      "Enter the second number:  10\n"
     ]
    },
    {
     "name": "stdout",
     "output_type": "stream",
     "text": [
      "After swapping: first number = 10 and second number = 5\n"
     ]
    }
   ],
   "source": [
    "# Write python program that swap two number with temp variable and without temp variable. \n",
    "\n",
    "a = 5\n",
    "b = 10\n",
    "\n",
    "a = int(input(\"Enter the first number: \"))\n",
    "b = int(input(\"Enter the second number: \"))\n",
    "\n",
    "temp = a\n",
    "a = b\n",
    "b = temp\n",
    "\n",
    "print(f\"After swapping: first number = {a} and second number = {b}\")"
   ]
  },
  {
   "cell_type": "code",
   "execution_count": 13,
   "id": "527f1525-b32b-4c12-ba78-33fdd92722f1",
   "metadata": {},
   "outputs": [
    {
     "name": "stdin",
     "output_type": "stream",
     "text": [
      "Enter the first number:  3\n",
      "Enter the second number:  9\n"
     ]
    },
    {
     "name": "stdout",
     "output_type": "stream",
     "text": [
      " Even:  3\n",
      "Odd:  4\n"
     ]
    }
   ],
   "source": [
    "# Write a Python program to find whether a given number is even or odd, print out an appropriate message to the user.\n",
    "a1 = int(input(\"Enter the first number: \"))\n",
    "a2 = int(input(\"Enter the second number: \"))\n",
    "even = 0\n",
    "odd = 0\n",
    "for i in range(a1, a2+1):\n",
    "    if i%2==0:\n",
    "        even += 1\n",
    "    else:\n",
    "        odd += 1\n",
    "\n",
    "print(\" Even: \", even)\n",
    "print(\"Odd: \", odd)"
   ]
  },
  {
   "cell_type": "code",
   "execution_count": 17,
   "id": "1f913ae4-ff40-413e-8336-ba195696adae",
   "metadata": {},
   "outputs": [
    {
     "name": "stdin",
     "output_type": "stream",
     "text": [
      "Enter the character:  a\n"
     ]
    },
    {
     "name": "stdout",
     "output_type": "stream",
     "text": [
      "it is not vowel\n"
     ]
    }
   ],
   "source": [
    "# Write a Python program to test whether a passed letter is a vowel or not. \n",
    "n = input(\"Enter the character: \")\n",
    "vowel= ['a', 'e', 'i', 'o', 'u', 'A', 'E', 'I', 'O', 'U']\n",
    "if str == vowel:\n",
    "    print(\"it is a vowel\")\n",
    "\n",
    "else:\n",
    "    print(\"it is not vowel\")"
   ]
  },
  {
   "cell_type": "code",
   "execution_count": 23,
   "id": "b291631f-b776-4990-87f7-9287cd5982b3",
   "metadata": {},
   "outputs": [
    {
     "name": "stdout",
     "output_type": "stream",
     "text": [
      "None\n",
      "None\n",
      "None\n"
     ]
    }
   ],
   "source": [
    "# Write a Python program to sum of three given integers. However, if two values are equal sum will be zero.\n",
    "#2 2 2 = 0\n",
    "#2 3 2 = 0\n",
    "#3 4 5 =12\n",
    "def sum(x,y,z):\n",
    "    if x==y or y==z or x==z:\n",
    "        sum =0\n",
    "    else:\n",
    "        sum = x+y+z\n",
    "\n",
    "print(sum(2,2,2))\n",
    "print(sum(2,3,2))\n",
    "print(sum(3,4,5))"
   ]
  },
  {
   "cell_type": "code",
   "execution_count": 35,
   "id": "566a47b8-4b90-464b-817a-4dff0a2cadf6",
   "metadata": {},
   "outputs": [
    {
     "name": "stdout",
     "output_type": "stream",
     "text": [
      "True\n",
      "True\n",
      "True\n",
      "False\n",
      "False\n"
     ]
    }
   ],
   "source": [
    "# Write a Python program that will return true if the two given integer values are equal or their sum or difference is 5.\n",
    " \n",
    "def test_number5(x, y):\n",
    "    if x == y or abs(x - y) == 5 or (x + y) == 5:\n",
    "        return True\n",
    "    else:\n",
    "        return False\n",
    "\n",
    "print(test_number5(7, 2))\n",
    "print(test_number5(3, 3))\n",
    "print(test_number5(2, 2))\n",
    "print(test_number5(5, 3))\n",
    "print(test_number5(16, 3))"
   ]
  },
  {
   "cell_type": "code",
   "execution_count": 43,
   "id": "d5795a99-a993-4dc3-ae94-2d1ad31f1b16",
   "metadata": {},
   "outputs": [
    {
     "name": "stdin",
     "output_type": "stream",
     "text": [
      "Enter the number:  2\n"
     ]
    },
    {
     "name": "stdout",
     "output_type": "stream",
     "text": [
      "sum of the first 2 positive integers: 3.0\n"
     ]
    }
   ],
   "source": [
    "# Write a python program to sum of the first n positive integers. \n",
    "n = int(input(\"Enter the number: \"))\n",
    "sum__num = (n*(n+1))/2\n",
    "print(\"sum of the first\", n, \"positive integers:\", sum__num)"
   ]
  },
  {
   "cell_type": "code",
   "execution_count": 45,
   "id": "939a6d1b-7406-466c-95a9-8b8e97edc231",
   "metadata": {},
   "outputs": [
    {
     "name": "stdout",
     "output_type": "stream",
     "text": [
      "5\n"
     ]
    }
   ],
   "source": [
    "# Write a Python program to calculate the length of a string. \n",
    "a = \"Hello\"\n",
    "print(len(a))"
   ]
  },
  {
   "cell_type": "code",
   "execution_count": 47,
   "id": "f6c9cd20-3667-4ecc-9944-dcac82724138",
   "metadata": {},
   "outputs": [
    {
     "name": "stdout",
     "output_type": "stream",
     "text": [
      "['bear', 'castle']\n"
     ]
    }
   ],
   "source": [
    "# Write a Python program to count the number of characters (character frequency) in a string. \n",
    "mydictonary ={'a': 'apple', 'b': 'bear', 'c': 'castle'}\n",
    "keys = ['b', 'c']\n",
    "values = list(map(mydictonary.get,keys))\n",
    "print(values)"
   ]
  },
  {
   "cell_type": "code",
   "execution_count": 49,
   "id": "d9094a99-9c43-467c-8340-578db9181cbd",
   "metadata": {},
   "outputs": [
    {
     "name": "stdout",
     "output_type": "stream",
     "text": [
      "2\n"
     ]
    }
   ],
   "source": [
    "# Write a Python program to count occurrences of a substring in a string. \n",
    "s = \"hello world, hello universe\"\n",
    "sub = \"hello\"\n",
    "c = s.count(sub)\n",
    "print(c)"
   ]
  },
  {
   "cell_type": "code",
   "execution_count": 55,
   "id": "ea5eca67-d2b6-40d9-95b1-59ceca27e602",
   "metadata": {},
   "outputs": [
    {
     "name": "stdin",
     "output_type": "stream",
     "text": [
      "Enter string: have a good day\n",
      "Enter word: 4\n"
     ]
    },
    {
     "name": "stdout",
     "output_type": "stream",
     "text": [
      "Count of the word is:\n",
      "0\n"
     ]
    }
   ],
   "source": [
    "# Write a Python program to count the occurrences of each word in a  \n",
    "string=input(\"Enter string:\")\n",
    "word=input(\"Enter word:\")\n",
    "a=[]\n",
    "count=0\n",
    "a=string.split(\" \")\n",
    "for i in range(0,len(a)):\n",
    "      if(word==a[i]):\n",
    "            count=count+1\n",
    "print(\"Count of the word is:\")\n",
    "print(count)"
   ]
  },
  {
   "cell_type": "code",
   "execution_count": 11,
   "id": "0242d70f-d257-453b-8494-2f6f03f0f9c1",
   "metadata": {},
   "outputs": [
    {
     "name": "stdout",
     "output_type": "stream",
     "text": [
      "Before swap:   Hello    World\n",
      "After swap:   Wello ,   Horld\n"
     ]
    }
   ],
   "source": [
    "# Write a Python program to get a single string from two given strings,separated by a space and swap the first two characters of each string. \n",
    "a = \" Hello\"\n",
    "b = \" World\"\n",
    "print(\"Before swap: \",a,\" \",b)\n",
    "a1 = b[:2] + a[2:]\n",
    "b1 = a[:2] + b[2:]\n",
    "print(\"After swap: \",a1,\", \",b1)"
   ]
  },
  {
   "cell_type": "code",
   "execution_count": 15,
   "id": "79f08046-f697-48cc-865a-6322e01f8a5f",
   "metadata": {},
   "outputs": [
    {
     "name": "stdout",
     "output_type": "stream",
     "text": [
      "nameing\n",
      "ageing\n",
      "stringly\n"
     ]
    }
   ],
   "source": [
    "# Write a Python program to add 'in' at the end of a given string (length should be at least 3). If the given string already ends with 'ing' then \n",
    "# add 'ly' instead if the string length of the given string is less than 3,leave it unchanged. \n",
    "def add_string(str1):\n",
    "    length = len(str1)\n",
    "    \n",
    "    if length > 2:\n",
    "        \n",
    "        if str1[-3:] == 'ing':\n",
    "            str1 += 'ly'\n",
    "        else:\n",
    "            str1 += 'ing'\n",
    "\n",
    "    return str1\n",
    "\n",
    "print(add_string(\"name\"))      \n",
    "print(add_string(\"age\"))     \n",
    "print(add_string(\"string\"))  "
   ]
  },
  {
   "cell_type": "code",
   "execution_count": 23,
   "id": "fea348c2-13ce-42e7-8d68-b3306f8aeb8e",
   "metadata": {},
   "outputs": [
    {
     "name": "stdout",
     "output_type": "stream",
     "text": [
      "eman\n",
      "python\n"
     ]
    }
   ],
   "source": [
    "# Write a Python function to reverses a string if its length is a multiple of 4. \n",
    "def reverse_string(str1):\n",
    "    if len(str1) % 4 == 0:\n",
    "        return ''.join(reversed(str1))\n",
    "    \n",
    "    return str1\n",
    "\n",
    "print(reverse_string(\"name\"))  \n",
    "print(reverse_string(\"python\")) "
   ]
  },
  {
   "cell_type": "code",
   "execution_count": 27,
   "id": "d3627bd6-75cc-4ca8-89b4-c58759cad8f7",
   "metadata": {},
   "outputs": [
    {
     "name": "stdout",
     "output_type": "stream",
     "text": [
      "None\n",
      "None\n",
      "None\n"
     ]
    }
   ],
   "source": [
    "#  Write a Python program to get a string made of the first 2 and the last 2 chars from a given a string. If the string length is less than 2, return  \n",
    "# instead of the empty string. \n",
    "def string_both_ends(str):\n",
    "    if len(str)<2:\n",
    "        return \" \"\n",
    "        return str[0:2] + str[-2:]\n",
    "\n",
    "print(string_both_ends(\"hello\"))\n",
    "print(string_both_ends(\"world\")) \n",
    "print(string_both_ends(\"resource\"))      "
   ]
  },
  {
   "cell_type": "code",
   "execution_count": 29,
   "id": "75e1a110-ca09-41bc-8eba-0f183d994b1a",
   "metadata": {},
   "outputs": [
    {
     "name": "stdout",
     "output_type": "stream",
     "text": [
      "The original string is : have a nice day\n",
      "Formulated String : have a very nice day\n"
     ]
    }
   ],
   "source": [
    "# Write a Python function to insert a string in the middle of a string. \n",
    "test_str = \"have a nice day\"\n",
    " \n",
    "print(\"The original string is : \" + str(test_str))\n",
    " \n",
    "mid_str = \"very\"\n",
    " \n",
    "temp = test_str.split()\n",
    "mid_pos = len(temp) // 2\n",
    " \n",
    "res = temp[:mid_pos] + [mid_str] + temp[mid_pos:]\n",
    " \n",
    "res = ' '.join(res)\n",
    " \n",
    "print(\"Formulated String : \" + str(res))"
   ]
  },
  {
   "cell_type": "code",
   "execution_count": 31,
   "id": "6aca650d-1cf9-4d06-853e-1b34e4c26cd1",
   "metadata": {},
   "outputs": [
    {
     "name": "stdout",
     "output_type": "stream",
     "text": [
      "The smallest number is: 10\n",
      "The largest number is: 50\n"
     ]
    }
   ],
   "source": [
    "# Write a Python function to get the largest number, smallest num and sum of all from a list.\n",
    "numbers = [ 10,20,30,40,50]\n",
    "smallest = largest = numbers[0]\n",
    "for num in numbers:\n",
    "    if num < smallest:\n",
    "        smallest = num\n",
    "\n",
    "    if num > largest:\n",
    "        largest = num\n",
    "\n",
    "print(f\"The smallest number is: {smallest}\")\n",
    "print(f\"The largest number is: {largest}\")"
   ]
  },
  {
   "cell_type": "code",
   "execution_count": 19,
   "id": "f701f854-fcdf-4ef1-b646-abffd2085eb4",
   "metadata": {},
   "outputs": [
    {
     "name": "stdout",
     "output_type": "stream",
     "text": [
      "1\n"
     ]
    }
   ],
   "source": [
    "# Write a Python program to count the number of strings where the string length is 2 or more and the first and last character are same from a \n",
    "# given list of strings. \n",
    "def match_words(words):\n",
    "     ctr = 0\n",
    "     for word in words:\n",
    "         if len(word) > 1 and word[0] == word[-1]:\n",
    "             ctr += 1\n",
    "     return ctr\n",
    "\n",
    "print(match_words([\"Dhanshree\", \"Prashant\", \"Deepika\", '1221',]))"
   ]
  },
  {
   "cell_type": "code",
   "execution_count": 21,
   "id": "9f2240e4-e7c4-48e4-b6e6-bd04b0d7f173",
   "metadata": {},
   "outputs": [
    {
     "name": "stdout",
     "output_type": "stream",
     "text": [
      "[1, 2, 3, 4, 5]\n"
     ]
    }
   ],
   "source": [
    "# Write a Python program to remove duplicates from a list. \n",
    "ls = [ 1,2,3,3,2,4,5,5,4]\n",
    "unique_list = list(dict.fromkeys(ls))\n",
    "print(unique_list)"
   ]
  },
  {
   "cell_type": "code",
   "execution_count": 29,
   "id": "e2e83aae-bedc-46ae-b79c-d06af9069e41",
   "metadata": {},
   "outputs": [
    {
     "name": "stdout",
     "output_type": "stream",
     "text": [
      "The list is empty\n",
      "The list is not empty\n"
     ]
    }
   ],
   "source": [
    "# Write a Python program to check a list is empty or not. \n",
    "ls = []\n",
    "ls1 = [1,2,3,4,5]\n",
    "if len(ls) == 0:\n",
    "    print(\"The list is empty\")\n",
    "else:\n",
    "    print(\"The list is not empty\")\n",
    "\n",
    "if len(ls1) == 0:\n",
    "    print(\"The list is empty\")\n",
    "else:\n",
    "    print(\"The list is not empty\")"
   ]
  },
  {
   "cell_type": "code",
   "execution_count": 35,
   "id": "5e5df7a1-8ba9-496c-81ca-19468fac1e55",
   "metadata": {},
   "outputs": [
    {
     "name": "stdout",
     "output_type": "stream",
     "text": [
      "common elements\n"
     ]
    }
   ],
   "source": [
    "# Write a Python function that takes two lists and returns true if they have at least one common member. \n",
    "ls = [1,2,3,4,5]\n",
    "ls1 = [6,7,8,9,5]\n",
    "common = set(filter(lambda x: x in ls1, ls))\n",
    "if common:\n",
    "    print(\"common elements\")\n",
    "else:\n",
    "    print(\"no common elements.\")"
   ]
  },
  {
   "cell_type": "code",
   "execution_count": 37,
   "id": "b9ed2fd1-16e1-4db6-ba55-b30bd1e0775d",
   "metadata": {},
   "outputs": [
    {
     "name": "stdout",
     "output_type": "stream",
     "text": [
      "[1, 4, 9, 16, 25]\n",
      "[256, 289, 324, 361, 400]\n"
     ]
    }
   ],
   "source": [
    "# Write a Python program to generate and print a list of first and last 5 elements where the values are square of numbers between 1 and 30.\n",
    "def printValues():\n",
    "    ls = list()\n",
    "    for i in range(1, 21):\n",
    "        ls.append(i**2)\n",
    "    print(ls[:5])\n",
    "    print(ls[-5:])\n",
    "\n",
    "printValues() "
   ]
  },
  {
   "cell_type": "code",
   "execution_count": 39,
   "id": "e6b62a0e-d35d-449f-9e51-7d3873d5e62a",
   "metadata": {},
   "outputs": [
    {
     "name": "stdout",
     "output_type": "stream",
     "text": [
      "[1, 2, 3, 4, 5, 6, 7, 8, 9]\n"
     ]
    }
   ],
   "source": [
    "# Write a Python function that takes a list and returns a new list with unique elements of the first list.\n",
    "def unique_list(ls):\n",
    "    x = []\n",
    "    for a in ls:\n",
    "        if a not in x:\n",
    "            x.append(a)\n",
    "    return x\n",
    "\n",
    "print(unique_list([1,2,3,4,5,6,7,8,9,7,5,2,3])) "
   ]
  },
  {
   "cell_type": "code",
   "execution_count": 43,
   "id": "4a396a03-2332-4988-b81b-2a74e2fecfba",
   "metadata": {},
   "outputs": [
    {
     "name": "stdout",
     "output_type": "stream",
     "text": [
      "DhanshreePrashantDeepikaDimple\n"
     ]
    }
   ],
   "source": [
    "# Write a Python program to convert a list of characters into a string. \n",
    "from functools import reduce\n",
    "a = [\"Dhanshree\", \"Prashant\", \"Deepika\",\"Dimple\"]\n",
    "\n",
    "res = reduce(lambda x, y: x + y, a)\n",
    "\n",
    "print(res)"
   ]
  },
  {
   "cell_type": "code",
   "execution_count": 45,
   "id": "c8672705-10d2-4261-a8cc-66c4c660d738",
   "metadata": {},
   "outputs": [
    {
     "name": "stdout",
     "output_type": "stream",
     "text": [
      "Wine\n"
     ]
    }
   ],
   "source": [
    "# Write a Python program to select an item randomly from a list. \n",
    "import random\n",
    "color_list = [\"Red\", \"Blue\", \"White\", \"Purple\", \"Wine\"]\n",
    "print(random.choice(color_list))"
   ]
  },
  {
   "cell_type": "code",
   "execution_count": 49,
   "id": "531e18ee-83c0-4f8c-bd76-c18536c61ab6",
   "metadata": {},
   "outputs": [
    {
     "name": "stdout",
     "output_type": "stream",
     "text": [
      "Largest: 70, Smallest: 10,Second Largest: 60 ,Second Smallest: 20\n"
     ]
    }
   ],
   "source": [
    "# Write a Python program to find the second smallest number in a list. \n",
    "ls = [10,20,30,40,50,60,70]\n",
    "ls.sort()\n",
    "print(f\"Largest: {ls[-1]}, Smallest: {ls[-0]},Second Largest: {ls[-2]} ,Second Smallest: {ls[1]}\")"
   ]
  },
  {
   "cell_type": "code",
   "execution_count": 51,
   "id": "652fbda0-a3b9-4507-89aa-c1555edef4ba",
   "metadata": {},
   "outputs": [
    {
     "name": "stdout",
     "output_type": "stream",
     "text": [
      "[1, 2, 3, 4, 5, 6, 7]\n"
     ]
    }
   ],
   "source": [
    "# Write a Python program to get unique values from a list \n",
    "ls = [1,2,3,4,5,6,3,2,5,7,1,3]\n",
    "res = []\n",
    "for val in ls:\n",
    "    if val not in res:\n",
    "        res.append(val)\n",
    "\n",
    "print(res)"
   ]
  },
  {
   "cell_type": "code",
   "execution_count": 63,
   "id": "89fc49ac-d5e4-45b3-bc31-292ba0c44215",
   "metadata": {},
   "outputs": [
    {
     "name": "stdout",
     "output_type": "stream",
     "text": [
      "True\n"
     ]
    }
   ],
   "source": [
    "# Write a Python program to check whether a list contains a sub list \n",
    "from collections import deque\n",
    "a = [5, 6, 3, 8, 2, 1, 7, 1]\n",
    "b = [8, 2, 1] # sublist\n",
    "\n",
    "# convert sublist to tuple\n",
    "b_tuple = tuple(b)\n",
    "\n",
    "window = deque(a[:len(b) - 1], maxlen=len(b))\n",
    "\n",
    "res = False\n",
    "\n",
    "for i in range(len(b) - 1, len(a)):\n",
    "    window.append(a[i])\n",
    "    if tuple(window) == b_tuple:\n",
    "        res = True\n",
    "        break\n",
    "\n",
    "print(res)"
   ]
  },
  {
   "cell_type": "code",
   "execution_count": 65,
   "id": "0b87959b-bcd0-4304-852e-13378f4aa00d",
   "metadata": {},
   "outputs": [
    {
     "name": "stdout",
     "output_type": "stream",
     "text": [
      "('Black', 'Dark', 'light(1,2,3)')\n",
      "('Red', 'Cover', 'number(3,2,1)')\n",
      "('Yellow', 'flowers', 'range(0,50,200)')\n"
     ]
    }
   ],
   "source": [
    "# Write a Python program to split a list into different variables. \n",
    "color = [\n",
    "    (\"Black\", \"Dark\", \"light(1,2,3)\"),\n",
    "    (\"Red\", \"Cover\", \"number(3,2,1)\"),\n",
    "    (\"Yellow\", \"flowers\", \"range(0,50,200)\")\n",
    "]\n",
    "\n",
    "var1, var2, var3 = color\n",
    "\n",
    "print(var1)\n",
    "print(var2)\n",
    "print(var3)"
   ]
  },
  {
   "cell_type": "code",
   "execution_count": 1,
   "id": "11488587-dbd2-406c-b764-4e70992753ac",
   "metadata": {},
   "outputs": [
    {
     "name": "stdout",
     "output_type": "stream",
     "text": [
      "('tuple', 'Dhanu', 'Prash', 3.2, 1, 3)\n"
     ]
    }
   ],
   "source": [
    "#  Write a Python program to create a tuple with different data types. \n",
    "tuplex = (\"tuple\", \"Dhanu\",\"Prash\", 3.2, 1,3)\n",
    "print(tuplex)"
   ]
  },
  {
   "cell_type": "code",
   "execution_count": 3,
   "id": "b739c436-46cb-4e6a-9ca9-40d7673dbd36",
   "metadata": {},
   "outputs": [
    {
     "name": "stdout",
     "output_type": "stream",
     "text": [
      "['a', 'b']\n",
      "[3, 4]\n"
     ]
    }
   ],
   "source": [
    "# Write a Python program to unzip a list of tuples into individual lists. \n",
    "ls = [('a', 3), ('b', 4)]\n",
    "\n",
    "a = []\n",
    "b = []\n",
    "\n",
    "for item in ls:\n",
    "    a.append(item[0])  \n",
    "    b.append(item[1])  \n",
    "print(a)\n",
    "print(b)"
   ]
  },
  {
   "cell_type": "code",
   "execution_count": 11,
   "id": "c0f582f0-3731-480f-9467-0f865fb49e03",
   "metadata": {},
   "outputs": [
    {
     "name": "stdout",
     "output_type": "stream",
     "text": [
      "{'color': 2, 'flower': 3, 'rose': 1}\n"
     ]
    }
   ],
   "source": [
    "# Write a Python program to convert a list of tuples into a dictionary. \n",
    "ls = [(\"color\", 2), (\"flower\", 3), (\"rose\", 1)]\n",
    "\n",
    "res = dict(ls)\n",
    "\n",
    "print(res) "
   ]
  },
  {
   "cell_type": "code",
   "execution_count": 15,
   "id": "8a75a328-74b5-4bbc-ba66-f680b980d8d9",
   "metadata": {},
   "outputs": [
    {
     "name": "stdout",
     "output_type": "stream",
     "text": [
      "{'Algo': 95, 'Math': 90, 'DSA': 80, 'Python': 75}\n"
     ]
    }
   ],
   "source": [
    "# Write a Python script to sort (ascending and descending) a dictionary by value.\n",
    "input_dict = {'Math': 90, 'DSA': 80, 'Algo': 95, 'Python': 75}\n",
    "\n",
    "output = dict(sorted(input_dict.items(), key=lambda item: item[1], reverse=True))\n",
    "              \n",
    "print(output)"
   ]
  },
  {
   "cell_type": "code",
   "execution_count": 17,
   "id": "799d831e-f025-4432-9b16-8a07ad3268b0",
   "metadata": {},
   "outputs": [
    {
     "name": "stdout",
     "output_type": "stream",
     "text": [
      "{1: 10, 2: 20, 7: 70, 3: 30, 4: 40, 8: 80, 5: 50, 6: 60, 9: 90}\n"
     ]
    }
   ],
   "source": [
    "# Write a Python script to concatenate following dictionaries to create a new one. \n",
    "dic1 = {1: 10, 2: 20, 7: 70}\n",
    "dic2 = {3: 30, 4: 40, 8: 80}\n",
    "dic3 = {5: 50, 6: 60, 9: 90}\n",
    "\n",
    "dic4 = {}\n",
    "\n",
    "for d in (dic1, dic2, dic3):\n",
    "    dic4.update(d)\n",
    "\n",
    "print(dic4) "
   ]
  },
  {
   "cell_type": "code",
   "execution_count": 23,
   "id": "f3a5d1f8-8adc-4bf1-9e29-573a54eb1b4b",
   "metadata": {},
   "outputs": [
    {
     "name": "stdout",
     "output_type": "stream",
     "text": [
      "True\n",
      "False\n"
     ]
    }
   ],
   "source": [
    "# Write a Python script to check if a given key already exists in a dictionary.\n",
    "dic = {'a': 1, 'b': 2, 'flower': 3}\n",
    "\n",
    "# Key to check\n",
    "key = 'b'\n",
    "print(key in dic)  \n",
    "\n",
    "key = 'g'\n",
    "print(key in dic) "
   ]
  },
  {
   "cell_type": "code",
   "execution_count": 25,
   "id": "b4789701-723c-4d37-8d1a-d97029179f8f",
   "metadata": {},
   "outputs": [
    {
     "name": "stdout",
     "output_type": "stream",
     "text": [
      "{1: 1, 2: 4, 3: 9, 4: 16, 5: 25, 6: 36, 7: 49, 8: 64, 9: 81, 10: 100, 11: 121, 12: 144, 13: 169, 14: 196, 15: 225}\n"
     ]
    }
   ],
   "source": [
    "#  Write a Python script to print a dictionary where the keys are numbers between 1 and 15. \n",
    "d = dict()\n",
    "\n",
    "for x in range(1, 16):\n",
    "    d[x] = x ** 2\n",
    "\n",
    "print(d) "
   ]
  },
  {
   "cell_type": "code",
   "execution_count": 27,
   "id": "bf6c7c66-12f5-4415-b7a3-dee1797bbb9a",
   "metadata": {},
   "outputs": [
    {
     "name": "stdout",
     "output_type": "stream",
     "text": [
      "keys are present\n",
      "keys are not present\n"
     ]
    }
   ],
   "source": [
    "# Write a Python program to check multiple keys exists in a dictionary \n",
    "sports = {\"geeksforgeeks\" : 1, \"practice\" : 2, \"contribute\" :3}\n",
    "  \n",
    "if all(key in sports for key in ('geeksforgeeks', 'practice')):\n",
    "    print(\"keys are present\")\n",
    "else:\n",
    "    print(\"keys are not present\")\n",
    "  \n",
    "if all(key in sports for key in ('geeksforgeeks', 'ide')):\n",
    "    print(\"keys are present\")\n",
    "else:\n",
    "    print(\"keys are not present\")"
   ]
  },
  {
   "cell_type": "code",
   "execution_count": 29,
   "id": "ec734645-0659-4e2a-bfde-c9ed64b6e95f",
   "metadata": {},
   "outputs": [
    {
     "name": "stdout",
     "output_type": "stream",
     "text": [
      "{'rose': 1, 'flower': 2, 'game': 3, 'team': 4}\n"
     ]
    }
   ],
   "source": [
    "# Write a Python script to merge two Python dictionaries \n",
    "ls = {\"rose\": 1, \"flower\": 2}\n",
    "ls1 = {\"game\": 3, \"team\": 4}\n",
    "\n",
    "ls.update(ls1)\n",
    "print(ls)"
   ]
  },
  {
   "cell_type": "code",
   "execution_count": 33,
   "id": "91036367-abf9-49c6-97e9-65f772c8eeb4",
   "metadata": {},
   "outputs": [
    {
     "name": "stdout",
     "output_type": "stream",
     "text": [
      "{'a': 400, 'b': 400, 'd': 400, 'c': 300}\n"
     ]
    }
   ],
   "source": [
    "# Write a Python program to map two lists into a dictionary \n",
    "# Sample output: Counter ({'a': 400, 'b': 400,’d’: 400, 'c': 300}). \n",
    "\n",
    "ls = ['a', 'b', 'd', 'c']\n",
    "ls1 = [400, 400, 400, 300]\n",
    "res = dict(zip(ls, ls1))\n",
    "print(res)"
   ]
  },
  {
   "cell_type": "code",
   "execution_count": 35,
   "id": "8d05ad2f-4103-4298-83a6-f5a8ef8662cd",
   "metadata": {},
   "outputs": [
    {
     "name": "stdout",
     "output_type": "stream",
     "text": [
      "Initial Dictionary:\n",
      "{'A': 87, 'B': 97, 'C': 35, 'D': 55, 'E': 10, 'F': 99} \n",
      "\n",
      "Dictionary with 3 highest values:\n",
      "Keys: Values\n",
      "F : 99\n",
      "B : 97\n",
      "A : 87\n"
     ]
    }
   ],
   "source": [
    "# Write a Python program to find the highest 3 values in a dictionary \n",
    " \n",
    "from heapq import nlargest\n",
    " \n",
    "my_dict = {'A': 87, 'B': 97, 'C': 35,\n",
    "           'D': 55, 'E': 10, 'F': 99}\n",
    " \n",
    "print(\"Initial Dictionary:\")\n",
    "print(my_dict, \"\\n\")\n",
    " \n",
    "ThreeHighest = nlargest(3, my_dict, key = my_dict.get)\n",
    " \n",
    "print(\"Dictionary with 3 highest values:\")\n",
    "print(\"Keys: Values\")\n",
    " \n",
    "for val in ThreeHighest:\n",
    "    print(val, \":\", my_dict.get(val))"
   ]
  },
  {
   "cell_type": "code",
   "execution_count": 37,
   "id": "f3330228-3f7e-4538-87af-0caf7d58d887",
   "metadata": {},
   "outputs": [
    {
     "name": "stdout",
     "output_type": "stream",
     "text": [
      "Counter({'item1': 1150, 'item2': 300})\n"
     ]
    }
   ],
   "source": [
    "# Write a Python program to combine values in python list of dictionaries. \n",
    "# Sample data: [{'item': 'item1', 'amount': 400}, {'item': 'item2', 'amount': 300}, o {'item': 'item1', 'amount': 750}]\n",
    "# Expected Output: \n",
    "# • Counter ({'item1': 1150, 'item2': 300}) \n",
    "\n",
    "from collections import Counter\n",
    "\n",
    "item_list = [{'item': 'item1', 'amount': 400}, {'item': 'item2', 'amount': 300}, {'item': 'item1', 'amount': 750}]\n",
    "\n",
    "result = Counter()\n",
    "\n",
    "for d in item_list:\n",
    "    result[d['item']] += d['amount']\n",
    "\n",
    "print(result) "
   ]
  },
  {
   "cell_type": "code",
   "execution_count": 39,
   "id": "62491d88-b67c-47bf-84cc-a228852e8f35",
   "metadata": {},
   "outputs": [
    {
     "name": "stdin",
     "output_type": "stream",
     "text": [
      "Enter a string:  2\n"
     ]
    },
    {
     "name": "stdout",
     "output_type": "stream",
     "text": [
      "{'2': 1}\n"
     ]
    }
   ],
   "source": [
    "# Write a Python program to create a dictionary from a string. \n",
    "# Note: Track the count of the letters from the string. \n",
    "st = input(\"Enter a string: \")\n",
    "dic = {}\n",
    "\n",
    "for ch in st:\n",
    "    if ch in dic:\n",
    "        dic[ch] += 1\n",
    "    else:\n",
    "        dic[ch] = 1\n",
    "\n",
    "print(dic)"
   ]
  },
  {
   "cell_type": "code",
   "execution_count": 1,
   "id": "8c9eab80-30c7-46d2-939f-7fc6e55db2c9",
   "metadata": {},
   "outputs": [
    {
     "name": "stdout",
     "output_type": "stream",
     "text": [
      "{'w': 1, '3': 1, 'r': 2, 'e': 2, 's': 1, 'o': 1, 'u': 1, 'c': 1}\n"
     ]
    }
   ],
   "source": [
    "# Sample string:\n",
    "# 'w3resource' Expected output: \n",
    "# • {'3': 1,’s’: 1, 'r': 2, 'u': 1, 'w': 1, 'c': 1, 'e': 2, 'o': 1} \n",
    "def count_letters(string):\n",
    "    letter_counts = {}  \n",
    "    for char in string:\n",
    "        if char in letter_counts:\n",
    "            letter_counts[char] += 1  \n",
    "        else:\n",
    "            letter_counts[char] = 1  \n",
    "    return letter_counts\n",
    "\n",
    "sample_string = \"w3resource\"\n",
    "result = count_letters(sample_string)\n",
    "print(result)"
   ]
  },
  {
   "cell_type": "code",
   "execution_count": 7,
   "id": "f8123847-4c84-4001-859a-d823304d19b3",
   "metadata": {},
   "outputs": [
    {
     "name": "stdin",
     "output_type": "stream",
     "text": [
      "Input a number to compute the factorial:  20\n"
     ]
    },
    {
     "name": "stdout",
     "output_type": "stream",
     "text": [
      "2432902008176640000\n"
     ]
    }
   ],
   "source": [
    "# Write a Python function to calculate the factorial of a number (a nonnegative integer).\n",
    "def factorial(n):\n",
    "    if n == 0:\n",
    "        return 1\n",
    "    else:\n",
    "        return n * factorial(n - 1)\n",
    "\n",
    "n = int(input(\"Input a number to compute the factorial: \"))\n",
    "\n",
    "print(factorial(n))"
   ]
  },
  {
   "cell_type": "code",
   "execution_count": 21,
   "id": "8be60d29-8c00-4536-ac44-9b91cd2d7427",
   "metadata": {},
   "outputs": [
    {
     "name": "stdout",
     "output_type": "stream",
     "text": [
      "4\n"
     ]
    }
   ],
   "source": [
    "# Write a Python function to check whether a number is in a given range \n",
    "n = [5, 15, 25, 35, 45, 55, 65, 75]\n",
    "l = 20\n",
    "u = 60\n",
    "\n",
    "cnt = len([i for i in n if l <= i <= u])\n",
    "\n",
    "print(cnt)"
   ]
  },
  {
   "cell_type": "code",
   "execution_count": 23,
   "id": "061171e7-a52f-40eb-a1e4-8f83e24f2658",
   "metadata": {},
   "outputs": [
    {
     "name": "stdout",
     "output_type": "stream",
     "text": [
      "Number is not a Perfect Number.\n",
      "Number is a Perfect Number.\n"
     ]
    }
   ],
   "source": [
    "# Write a Python function to check whether a number is perfect or not. \n",
    "n = 78\n",
    "Sum = 0\n",
    "for i in range(1, n):\n",
    "    if(n % i == 0):\n",
    "        Sum = Sum + i\n",
    "if (Sum == n):\n",
    "    print(\"Number is a Perfect Number.\")\n",
    "else:\n",
    "    print(\"Number is not a Perfect Number.\")\n",
    "\n",
    "n = 6\n",
    "divisors = sum([i for i in range(1, n) if n % i == 0])\n",
    "\n",
    "if n == divisors:\n",
    "    print(\"Number is a Perfect Number.\")\n",
    "else:\n",
    "    print(\"Number is not a Perfect Number.\")"
   ]
  },
  {
   "cell_type": "code",
   "execution_count": 35,
   "id": "eaf0fe0e-92f1-4d12-9022-f7677fc0df12",
   "metadata": {},
   "outputs": [
    {
     "name": "stdin",
     "output_type": "stream",
     "text": [
      "Enter a string:  level\n"
     ]
    },
    {
     "name": "stdout",
     "output_type": "stream",
     "text": [
      "\"level\" is a palindrome.\n"
     ]
    }
   ],
   "source": [
    "# Write a Python function that checks whether a passed string is palindrome or not.\n",
    "def is_palindrome(s):\n",
    "    s = s.replace(\" \", \" \").lower()\n",
    "    return s == s[::-1]\n",
    "    \n",
    "input_string = input(\"Enter a string: \")\n",
    "\n",
    "if is_palindrome(input_string):\n",
    "    print(f'\"{input_string}\" is a palindrome.')\n",
    "else:\n",
    "    print(f'\"{input_string}\" is not a palindrome.')"
   ]
  },
  {
   "cell_type": "code",
   "execution_count": 15,
   "id": "7278b1eb-37ed-458e-b087-c861b39a0b62",
   "metadata": {},
   "outputs": [],
   "source": [
    "# Write a Python program to read an entire text file. \n",
    "def file_read(fname):\n",
    "    txt = open(fname)\n",
    "    print(txt.read())"
   ]
  },
  {
   "cell_type": "code",
   "execution_count": 19,
   "id": "24508fb7-605a-469b-881f-91ced2dafa3f",
   "metadata": {},
   "outputs": [
    {
     "name": "stdout",
     "output_type": "stream",
     "text": [
      "Output of Readlines after appending\n",
      "This is Delhi \n",
      "This is Paris \n",
      "This is London\n",
      "TodayTomorrow\n",
      "\n"
     ]
    }
   ],
   "source": [
    "# Write a Python program to append text to a file and display the text. \n",
    "file1 = open(\"myfile.txt\", \"w\")\n",
    "L = [\"This is Delhi \\n\", \"This is Paris \\n\", \"This is London\"]\n",
    "file1.writelines(L)\n",
    "file1.close()\n",
    " \n",
    "file1 = open(\"myfile.txt\", \"a\")\n",
    " \n",
    "file1.write(\"\\n\")\n",
    "file1.write(\"Today\")\n",
    " \n",
    "file1.write(\"Tomorrow\")\n",
    " \n",
    " \n",
    "file1 = open(\"myfile.txt\", \"r\")\n",
    "print(\"Output of Readlines after appending\")\n",
    "print(file1.read())\n",
    "print()\n",
    "file1.close()"
   ]
  },
  {
   "cell_type": "code",
   "execution_count": 1,
   "id": "15a71ad2-4cd5-417d-bd4d-7b82ced7e918",
   "metadata": {},
   "outputs": [],
   "source": [
    "#  Write a Python program to read first n lines of a file. "
   ]
  },
  {
   "cell_type": "code",
   "execution_count": 3,
   "id": "19e71a80-a40c-4250-9707-4cb7ee68c5fb",
   "metadata": {},
   "outputs": [],
   "source": [
    "# Write a Python program to read last n lines of a file. "
   ]
  },
  {
   "cell_type": "code",
   "execution_count": 40,
   "id": "23400fbd-812a-41fc-8108-a6b79f2028b6",
   "metadata": {},
   "outputs": [
    {
     "name": "stdout",
     "output_type": "stream",
     "text": [
      "['This is Delhi \\n', 'This is Paris \\n', 'This is London\\n', 'TodayTomorrow']\n",
      "['This is Delhi', 'This is Paris', 'This is London', 'TodayTomorrow']\n"
     ]
    }
   ],
   "source": [
    "# Write a Python program to read a file line by line and store it into a list \n",
    "with open('myfile.txt') as f:\n",
    "    lines = [line for line in f]\n",
    "\n",
    "print(lines)\n",
    "\n",
    "with open('myfile.txt') as f:\n",
    "    lines = [line.rstrip() for line in f]\n",
    "\n",
    "print(lines)"
   ]
  },
  {
   "cell_type": "code",
   "execution_count": 44,
   "id": "7b0b93da-e733-40be-a283-6e68769af218",
   "metadata": {},
   "outputs": [
    {
     "name": "stdout",
     "output_type": "stream",
     "text": [
      "Using for loop\n",
      "Line1: Geeks\n",
      "Line2: for\n",
      "Line3: Geeks\n"
     ]
    }
   ],
   "source": [
    "# Write a Python program to read a file line by line store it into a variable. \n",
    "L = [\"Geeks\\n\", \"for\\n\", \"Geeks\\n\"]\n",
    "\n",
    "file1 = open('myfile.txt', 'w')\n",
    "file1.writelines(L)\n",
    "file1.close()\n",
    "\n",
    "file1 = open('myfile.txt', 'r')\n",
    "count = 0\n",
    "\n",
    "print(\"Using for loop\")\n",
    "for line in file1:\n",
    "    count += 1\n",
    "    print(\"Line{}: {}\".format(count, line.strip()))\n",
    "\n",
    "file1.close()"
   ]
  },
  {
   "cell_type": "code",
   "execution_count": 46,
   "id": "494f2133-f25e-4f3d-a3f7-d321e534c67e",
   "metadata": {},
   "outputs": [
    {
     "name": "stdout",
     "output_type": "stream",
     "text": [
      "programming\n"
     ]
    }
   ],
   "source": [
    "#  Write a python program to find the longest words. \n",
    "s = \"I am learning Python programming language\"\n",
    "\n",
    "words = s.split()\n",
    "\n",
    "res = max(words, key=len)\n",
    "\n",
    "print(res)"
   ]
  },
  {
   "cell_type": "code",
   "execution_count": 48,
   "id": "20dfce10-e6c3-48a9-b0b3-a0cdccf627de",
   "metadata": {},
   "outputs": [
    {
     "name": "stdout",
     "output_type": "stream",
     "text": [
      "Total Number of lines: 3\n"
     ]
    }
   ],
   "source": [
    "# Write a Python program to count the number of lines in a text file. \n",
    "with open(r\"myfile.txt\", 'r') as fp:\n",
    "    lines = len(fp.readlines())\n",
    "    print('Total Number of lines:', lines)"
   ]
  },
  {
   "cell_type": "code",
   "execution_count": 7,
   "id": "cc3374ce-fcc1-42a3-a448-9931f259831d",
   "metadata": {},
   "outputs": [
    {
     "name": "stdin",
     "output_type": "stream",
     "text": [
      "Enter the filename:  text.txt\n"
     ]
    },
    {
     "name": "stdout",
     "output_type": "stream",
     "text": [
      "{'VTU': 3, 'RAM': 2, 'VADODARA': 1, 'Gujarat': 1}\n"
     ]
    }
   ],
   "source": [
    "# Write a Python program to count the frequency of words in a file. \n",
    "fname = input(\"Enter the filename: \")\n",
    "try:\n",
    "    fhand = open(fname)\n",
    "    d1 = dict()\n",
    "    for line in fhand:\n",
    "        words = line.split()\n",
    "        for word in words:\n",
    "            if word in d1:\n",
    "                d1[word] = d1[word] + 1\n",
    "            else:\n",
    "                d1[word] = 1\n",
    "    print (d1)\n",
    "except:\n",
    "    print (\"File not found\")"
   ]
  },
  {
   "cell_type": "code",
   "execution_count": 60,
   "id": "ec62c122-5de8-4a6b-99e7-dd054593c757",
   "metadata": {},
   "outputs": [
    {
     "name": "stdout",
     "output_type": "stream",
     "text": [
      "File written successfully\n"
     ]
    }
   ],
   "source": [
    "# Write a Python program to write a list to a file. \n",
    "l = ['Geeks','for','Geeks!']\n",
    "\n",
    "with open('gfg.txt', 'w+') as f:\n",
    "    \n",
    "    for items in l:\n",
    "        f.write('%s\\n' %items)\n",
    "    \n",
    "    print(\"File written successfully\")\n",
    "\n",
    "f.close()   "
   ]
  },
  {
   "cell_type": "code",
   "execution_count": 3,
   "id": "3f019f74-b43b-4d9e-8e8a-3615d7027151",
   "metadata": {},
   "outputs": [],
   "source": [
    "# Write a Python program to copy the contents of a file to another file. "
   ]
  },
  {
   "cell_type": "code",
   "execution_count": 5,
   "id": "04e1ee1d-02ce-4406-99d5-f551fb3ca7b2",
   "metadata": {},
   "outputs": [
    {
     "name": "stdin",
     "output_type": "stream",
     "text": [
      "Enter a number:  7\n"
     ]
    },
    {
     "name": "stdout",
     "output_type": "stream",
     "text": [
      "This is an odd number.\n"
     ]
    }
   ],
   "source": [
    "# Write python program that user to enter only odd numbers, else will raise an exception.\n",
    "num = int(input(\"Enter a number: \"))\n",
    "\n",
    "mod = num % 2\n",
    "\n",
    "if mod > 0:\n",
    "    print(\"This is an odd number.\")\n",
    "else:\n",
    "    print(\"This is an even number.\")"
   ]
  },
  {
   "cell_type": "code",
   "execution_count": null,
   "id": "e4a8cd7c-9242-45cc-ac14-4ee24ad2d83b",
   "metadata": {},
   "outputs": [],
   "source": []
  }
 ],
 "metadata": {
  "kernelspec": {
   "display_name": "Python [conda env:base] *",
   "language": "python",
   "name": "conda-base-py"
  },
  "language_info": {
   "codemirror_mode": {
    "name": "ipython",
    "version": 3
   },
   "file_extension": ".py",
   "mimetype": "text/x-python",
   "name": "python",
   "nbconvert_exporter": "python",
   "pygments_lexer": "ipython3",
   "version": "3.12.7"
  }
 },
 "nbformat": 4,
 "nbformat_minor": 5
}
